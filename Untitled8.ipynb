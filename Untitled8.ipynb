{
  "nbformat": 4,
  "nbformat_minor": 0,
  "metadata": {
    "colab": {
      "provenance": [],
      "toc_visible": true
    },
    "kernelspec": {
      "name": "python3",
      "display_name": "Python 3"
    },
    "language_info": {
      "name": "python"
    }
  },
  "cells": [
    {
      "cell_type": "markdown",
      "source": [
        "Speed:\n",
        "\n",
        "Python Lists: Slower for numerical tasks due to overhead and lack of optimization.\n",
        "\n",
        "NumPy Arrays:\n",
        "\n",
        " Faster, thanks to optimized C implementations and vectorization for element-wise operations.\n",
        "Memory:\n",
        "\n",
        "Python Lists:\n",
        "\n",
        " Use more memory due to their flexible, heterogeneous nature (different types of elements).\n",
        "\n",
        "NumPy Arrays:\n",
        "\n",
        " More memory-efficient, as they store elements of a single type in a contiguous block of memory.\n",
        "Convenience:\n",
        "\n",
        "Python Lists:\n",
        "\n",
        " Flexible but less suited for numerical computations.\n",
        "\n",
        "NumPy Arrays:\n",
        " Provide powerful tools for numerical operations (e.g., slicing, broadcasting, and built-in math functions) but require uniform data types.\n",
        "\n",
        "Summary:\n",
        "\n",
        " NumPy arrays are faster, more memory-efficient, and more convenient for numerical tasks, while Python lists are more flexible but less optimized for such tasks.\n"
      ],
      "metadata": {
        "id": "rJjdhACW4_NA"
      }
    },
    {
      "cell_type": "code",
      "source": [
        "import numpy as np"
      ],
      "metadata": {
        "id": "xFksqZ2Y5WZ3"
      },
      "execution_count": null,
      "outputs": []
    },
    {
      "cell_type": "markdown",
      "source": [
        "**ADVANCED INDEXING**\n",
        "\n",
        "FANCY INDEXING\n",
        "\n",
        "BOOLEAN INDEXING\n"
      ],
      "metadata": {
        "id": "r2QoorN960Tu"
      }
    },
    {
      "cell_type": "markdown",
      "source": [
        "FANCY INDEXING"
      ],
      "metadata": {
        "id": "CpzYKMin962S"
      }
    },
    {
      "cell_type": "code",
      "source": [
        "a = np.arange(1,17).reshape(4,4)\n",
        "print(a)\n",
        "#Fancy indexing\n",
        "a[[0,1,3]] # agr koi pattern nh bnta elements niklane k gese  mughe 1 and 4 y even rows chaya ; a[::2],\n",
        "#lekin agr mughe 0 , 1 3 row chaya there is no such pattern so use fancy indexing , ie give index of rows you want , in a list\n",
        "#If want spec col\n",
        "a[:,[0,2,3]] # a[:(all rows),[cols index you want]]\n",
        "\n"
      ],
      "metadata": {
        "colab": {
          "base_uri": "https://localhost:8080/"
        },
        "id": "MZ8fw3VU5EuD",
        "outputId": "9cded540-22bf-4458-eaa6-0f04bf3bb3a7"
      },
      "execution_count": null,
      "outputs": [
        {
          "output_type": "stream",
          "name": "stdout",
          "text": [
            "[[ 1  2  3  4]\n",
            " [ 5  6  7  8]\n",
            " [ 9 10 11 12]\n",
            " [13 14 15 16]]\n"
          ]
        },
        {
          "output_type": "execute_result",
          "data": {
            "text/plain": [
              "array([[ 1,  3,  4],\n",
              "       [ 5,  7,  8],\n",
              "       [ 9, 11, 12],\n",
              "       [13, 15, 16]])"
            ]
          },
          "metadata": {},
          "execution_count": 12
        }
      ]
    },
    {
      "cell_type": "markdown",
      "source": [
        "BOOLEAN INDEXING"
      ],
      "metadata": {
        "id": "S6jb-2Ts9w2y"
      }
    },
    {
      "cell_type": "markdown",
      "source": [
        "# **BOOLEAN MASKING**\n",
        "\n",
        "Boolean masking in NumPy (often abbreviated as \"nimpy\") is a powerful technique used for filtering or manipulating arrays based on specific conditions. It allows you to apply a condition to an array and create a mask (a boolean array) that can be used to index or modify elements in the original array. This is especially useful in data science tasks when working with datasets, cleaning data, or selecting specific subsets of data based on certain criteria."
      ],
      "metadata": {
        "id": "KIzTMrao_dQ9"
      }
    },
    {
      "cell_type": "code",
      "source": [
        "#if someone asked for conditional based indexing or take out elements for example take out even numbers ,you cant use fancy\n",
        "mask1 = a%2==0\n",
        "mask2 = np.where(a>10)\n",
        "mask3  = (a>10) & (a<20)\n",
        "filtered_array1 = a[mask1]\n",
        "filtered_array2 = a[mask2]\n",
        "filtered_array3 = a[mask3]\n",
        "filtered_array3"
      ],
      "metadata": {
        "id": "eLcWbKTW-Fim"
      },
      "execution_count": null,
      "outputs": []
    },
    {
      "cell_type": "markdown",
      "source": [
        "# **Broadcasting**\n",
        "\n",
        "Broadcasting in NumPy is a way of performing arithmetic operations on arrays of different shapes. NumPy automatically expands the smaller array to match the shape of the larger one, allowing element-wise operations without explicit looping or reshaping\n",
        "\n",
        "\n",
        "# **RULES OF BROADCASTING**\n",
        "1) Arrays with the same number of dimensions: If two arrays have the same number of dimensions, their shapes must be compatible. Specifically, starting from the last dimension and working backwards, the sizes of the dimensions must either be the same or one of them must be 1.\n",
        "\n",
        "2) Arrays with different numbers of dimensions: If one array has fewer dimensions, it's padded with \"1\" dimensions on the left (at the front). The arrays are then compared in the same way as rule 1.\n",
        "\n",
        "3) Stretching smaller array dimensions: If a dimension of one array has size 1, it can be \"stretched\" to match the corresponding dimension of the other array.\n",
        "\n",
        "4 ) Error if incompatible: If the arrays are still not compatible after applying the rules, an error will be raised."
      ],
      "metadata": {
        "id": "eIiYAepqBeFi"
      }
    },
    {
      "cell_type": "code",
      "source": [
        "A = np.array([[1, 2, 3], [4, 5, 6], [7, 8, 9], [10, 11, 12]])  # Shape (4, 3)\n",
        "B = np.array([1, 2, 3])  # Shape (3,)\n",
        "\n",
        "# Broadcasting: B is treated as if it has shape (4, 3) =  (4,3),(1,3) = > (4,3),(4,3) 1 streched to 4\n",
        "result = A + B  # Perform element-wise addition\n",
        "print(\"Result of broadcasting (4,3) with (3,):\")\n",
        "print(result)"
      ],
      "metadata": {
        "colab": {
          "base_uri": "https://localhost:8080/"
        },
        "id": "Ctsqbgl7LNav",
        "outputId": "c476b6c6-f507-4e9d-83a2-4ddc789cef49"
      },
      "execution_count": 17,
      "outputs": [
        {
          "output_type": "stream",
          "name": "stdout",
          "text": [
            "Result of broadcasting (4,3) with (3,):\n",
            "[[ 2  4  6]\n",
            " [ 5  7  9]\n",
            " [ 8 10 12]\n",
            " [11 13 15]]\n"
          ]
        }
      ]
    },
    {
      "cell_type": "markdown",
      "source": [
        "Example 2: Broadcasting a 1D Array to a 3D Array\n",
        "Arrays:\n",
        "\n",
        "Array A: Shape (2, 3, 4) — 3D array with 2 layers, 3 rows, and 4 columns.\n",
        "Array B: Shape (3,) — 1D array with 3 elements.\n",
        "Broadcasting:\n",
        "\n",
        "Array A: 2x3x4\n",
        "Array B (stretched): 1x3x1 → broadcast to 2x3x4"
      ],
      "metadata": {
        "id": "vgYcKtbhL3y5"
      }
    },
    {
      "cell_type": "code",
      "source": [
        "A = np.array([[[1, 2, 3, 4], [5, 6, 7, 8], [9, 10, 11, 12]],\n",
        "              [[13, 14, 15, 16], [17, 18, 19, 20], [21, 22, 23, 24]]])  # Shape (2, 3, 4)\n",
        "B = np.array([1, 2, 3])  # Shape (3,)\n",
        "\n",
        "# Broadcasting: B is treated as if it has shape (2, 3, 4)\n",
        "result = A + B  # Perform element-wise addition\n",
        "print(\"\\nResult of broadcasting (2,3,4) with (3,):\")\n",
        "print(result)\n"
      ],
      "metadata": {
        "id": "QisKc8rUL5WN"
      },
      "execution_count": null,
      "outputs": []
    },
    {
      "cell_type": "markdown",
      "source": [
        "Example 3: Broadcasting a Higher-Dimensional Array to Match a 2D Array\n",
        "Arrays:\n",
        "\n",
        "Array A: Shape (3, 2) — 2D array with 3 rows and 2 columns.\n",
        "Array B: Shape (2, 1) — 2D array with 2 rows and 1 column.\n",
        "Broadcasting:\n",
        "\n",
        "Array A: 3x2\n",
        "Array B: 2x1 → broadcast to 3x2\n",
        "\n"
      ],
      "metadata": {
        "id": "MGlNWn2jMGvD"
      }
    },
    {
      "cell_type": "code",
      "source": [
        "A = np.array([[1, 2], [3, 4], [5, 6]])  # Shape (3, 2)\n",
        "B = np.array([[1], [2]])  # Shape (2, 1)\n",
        "\n",
        "# Broadcasting: B is treated as if it has shape (3, 2)\n",
        "result = A + B  # Perform element-wise addition\n",
        "print(\"\\nResult of broadcasting (3,2) with (2,1):\")\n",
        "print(result)\n"
      ],
      "metadata": {
        "id": "48AKJraAMJIa"
      },
      "execution_count": null,
      "outputs": []
    },
    {
      "cell_type": "markdown",
      "source": [
        "Example 4: Broadcasting with Incompatible Shapes\n",
        "Arrays:\n",
        "\n",
        "Array A: Shape (4, 3) — 2D array with 4 rows and 3 columns.\n",
        "Array B: Shape (4, 2) — 2D array with 4 rows and 2 columns.\n",
        "Broadcasting:\n",
        "\n",
        "Array A: 4x3\n",
        "Array B: 4x2 → Incompatible shapes (cannot align the columns)"
      ],
      "metadata": {
        "id": "J_H9EcN-MMQ0"
      }
    },
    {
      "cell_type": "code",
      "source": [
        "A = np.array([[1, 2, 3], [4, 5, 6], [7, 8, 9], [10, 11, 12]])  # Shape (4, 3)\n",
        "B = np.array([[1, 2], [3, 4], [5, 6], [7, 8]])  # Shape (4, 2)\n",
        "\n",
        "# This will throw an error because shapes (4,3) and (4,2) are not compatible\n",
        "try:\n",
        "    result = A + B  # Attempt element-wise addition\n",
        "except ValueError as e:\n",
        "    print(\"\\nError:\", e)\n",
        "#Error: operands could not be broadcast together with shapes (4,3) (4,2)\n"
      ],
      "metadata": {
        "id": "ICbV6679MR6V"
      },
      "execution_count": null,
      "outputs": []
    },
    {
      "cell_type": "markdown",
      "source": [
        "Example 5: Broadcasting a 1D Array to a 2D Array with Different Sizes\n",
        "Arrays:\n",
        "\n",
        "Array A: Shape (4, 3) — 2D array with 4 rows and 3 columns.\n",
        "Array B: Shape (1,) — 1D array with a single element.\n",
        "Broadcasting:\n",
        "\n",
        "Array A: 4x3\n",
        "Array B (stretched): 1x1 → broadcast to 4x3 (all elements in B will be stretched to match the shape of A)"
      ],
      "metadata": {
        "id": "Xgt3N5a4Meec"
      }
    },
    {
      "cell_type": "code",
      "source": [
        "A = np.array([[1, 2, 3], [4, 5, 6], [7, 8, 9], [10, 11, 12]])  # Shape (4, 3)\n",
        "B = np.array([10])  # Shape (1,)\n",
        "\n",
        "# Broadcasting: B is treated as if it has shape (4, 3)\n",
        "result = A + B  # Perform element-wise addition\n",
        "print(\"\\nResult of broadcasting (4,3) with (1,):\")\n",
        "print(result)\n"
      ],
      "metadata": {
        "id": "HhN8Af8lMgdV"
      },
      "execution_count": null,
      "outputs": []
    }
  ]
}