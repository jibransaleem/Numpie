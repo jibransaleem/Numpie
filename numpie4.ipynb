{
  "nbformat": 4,
  "nbformat_minor": 0,
  "metadata": {
    "colab": {
      "provenance": []
    },
    "kernelspec": {
      "name": "python3",
      "display_name": "Python 3"
    },
    "language_info": {
      "name": "python"
    }
  },
  "cells": [
    {
      "cell_type": "code",
      "execution_count": 11,
      "metadata": {
        "colab": {
          "base_uri": "https://localhost:8080/"
        },
        "id": "kXhSSw4eWJBm",
        "outputId": "0a4d6535-cd0f-4f0e-a4cc-320b80abc132"
      },
      "outputs": [
        {
          "output_type": "stream",
          "name": "stdout",
          "text": [
            "[[[0 1]\n",
            "  [2 3]]\n",
            "\n",
            " [[4 5]\n",
            "  [6 7]]]\n"
          ]
        },
        {
          "output_type": "execute_result",
          "data": {
            "text/plain": [
              "array([[4, 5]])"
            ]
          },
          "metadata": {},
          "execution_count": 11
        }
      ],
      "source": [
        "import numpy as np\n",
        "a1 = np.arange(1,10).reshape(3,3)\n",
        "a2  =  np.arange(8).reshape(2,2,2)\n",
        "print(a2)\n",
        "a2[1,0:1]\n",
        "# arr[row, column]\n",
        "# arr[row, start:end]  # Slice along columns (range of columns)\n",
        "# arr[start:end, :]    # Slice along rows (range of rows)\n",
        "\n"
      ]
    },
    {
      "cell_type": "markdown",
      "source": [
        "ITERATION"
      ],
      "metadata": {
        "id": "7Z_G5S6Maiji"
      }
    },
    {
      "cell_type": "code",
      "source": [
        "for i in np.nditer(a1):  # iteratiing\n",
        "  print(i , end= \" \")\n",
        "print(\" \")\n",
        "for j in np.nditer(a2):  # iteratiing\n",
        "#   print(j , end= \" \")\n",
        "# np.nditer() is used to iterate over each element of an array, no matter its shape (1D, 2D, etc.).\n",
        "# It flattens the array, meaning it will visit each element in a single sequence (left to right, top to bottom for multidimensional arrays)"
      ],
      "metadata": {
        "colab": {
          "base_uri": "https://localhost:8080/"
        },
        "id": "CsN6nML6YMpS",
        "outputId": "ac718875-91d1-4874-af95-c8647ea366ac"
      },
      "execution_count": 16,
      "outputs": [
        {
          "output_type": "stream",
          "name": "stdout",
          "text": [
            "1 2 3 4 5 6 7 8 9  \n",
            "0 1 2 3 4 5 6 7 "
          ]
        }
      ]
    },
    {
      "cell_type": "markdown",
      "source": [
        "TRANSPOSE"
      ],
      "metadata": {
        "id": "3yz9POUbagJi"
      }
    },
    {
      "cell_type": "code",
      "source": [
        "#Transpose\n",
        "np.transpose(a2)\n",
        "# or\n",
        "a2.T\n"
      ],
      "metadata": {
        "colab": {
          "base_uri": "https://localhost:8080/"
        },
        "id": "eHUG8bQZZVMz",
        "outputId": "5e80f81f-5679-4776-a090-9dc6e0e090b6"
      },
      "execution_count": 19,
      "outputs": [
        {
          "output_type": "execute_result",
          "data": {
            "text/plain": [
              "array([[[0, 4],\n",
              "        [2, 6]],\n",
              "\n",
              "       [[1, 5],\n",
              "        [3, 7]]])"
            ]
          },
          "metadata": {},
          "execution_count": 19
        }
      ]
    },
    {
      "cell_type": "markdown",
      "source": [
        "RAVEL"
      ],
      "metadata": {
        "id": "QB-eeSNhac4t"
      }
    },
    {
      "cell_type": "code",
      "source": [
        "#Ravel\n",
        "#converts n - dimension array into 1d array\n",
        "a2.ravel()"
      ],
      "metadata": {
        "colab": {
          "base_uri": "https://localhost:8080/"
        },
        "id": "dsoi68x9Z1ET",
        "outputId": "1d7ff39f-9a09-4227-905d-fcb3529d9535"
      },
      "execution_count": 22,
      "outputs": [
        {
          "output_type": "execute_result",
          "data": {
            "text/plain": [
              "array([0, 1, 2, 3, 4, 5, 6, 7])"
            ]
          },
          "metadata": {},
          "execution_count": 22
        }
      ]
    },
    {
      "cell_type": "markdown",
      "source": [
        "STACKING"
      ],
      "metadata": {
        "id": "9bwlIcBmaZjK"
      }
    },
    {
      "cell_type": "code",
      "source": [
        "#In NumPy, stacking refers to combining multiple arrays along a new axis (row-wise, column-wise, or depth-wise) to create a larger array.\n",
        "# There are several methods to stack arrays in NumPy:\n",
        "\n",
        "\n",
        "# Example arrays\n",
        "a1 = np.array([1, 2, 3])\n",
        "a2 = np.array([4, 5, 6])\n",
        "\n",
        "# Correct horizontal stacking\n",
        "x = np.hstack((a1, a2)) #hstack = horizontal stack\n",
        "y = np.vstack((a1,a2)) # vertical stack\n",
        "#if x :   [2 x 2]  :  [2 x 2 ]  =  [2 x 4]\n",
        "#if y :   [2 x 2]  :  [2 x 2 ]  =  [4 x 2]\n",
        "\n"
      ],
      "metadata": {
        "colab": {
          "base_uri": "https://localhost:8080/"
        },
        "id": "RWwSEVY-abbl",
        "outputId": "1c396fa3-f93a-48e5-af5d-4583a6fb31a4"
      },
      "execution_count": 27,
      "outputs": [
        {
          "output_type": "stream",
          "name": "stdout",
          "text": [
            "[[1 2 3]\n",
            " [4 5 6]]\n"
          ]
        }
      ]
    },
    {
      "cell_type": "markdown",
      "source": [
        "In NumPy, concatenation refers to combining two or more arrays along a specified axis (0 for rows, 1 for columns, etc.). This can be done using the function np.concatenate(), which is more general and flexible compared to other stacking functions like np.vstack() and np.hstack()."
      ],
      "metadata": {
        "id": "yxQSrjvfcqMr"
      }
    },
    {
      "cell_type": "code",
      "source": [
        "#np.concatenate((array1, array2, ...), axis=0)\n",
        "a1 = np.array([1, 2, 3])\n",
        "a2 = np.array([4, 5, 6])\n",
        "g = np.concatenate((a1,a2),axis=0)\n"
      ],
      "metadata": {
        "id": "feq4EhtWcpNL"
      },
      "execution_count": 30,
      "outputs": []
    },
    {
      "cell_type": "markdown",
      "source": [
        "SPILITING\n"
      ],
      "metadata": {
        "id": "jes-UK1vdZLb"
      }
    },
    {
      "cell_type": "markdown",
      "source": [
        "Horizontal Split (np.hsplit())\n",
        "The function np.hsplit() splits a 2D array horizontally (i.e., it cuts along columns), meaning the array is divided into multiple smaller arrays along its columns.\n",
        "\n",
        "Vertical Split (np.vsplit())\n",
        "The function np.vsplit() splits a 2D array vertically (i.e., it cuts along rows), meaning the array is divided into multiple smaller arrays along its rows."
      ],
      "metadata": {
        "id": "cHjMz3SCfORn"
      }
    },
    {
      "cell_type": "code",
      "source": [
        "#in horizontal ; numpy arrays s cut vertically so two arrays are form horizontaly\n",
        "#in vertically ; numpy arrays s cut horizontally so two arrays are form vertically\n",
        "\n",
        "# Define a 2D array (2x3 matrix)\n",
        "arr1 = np.array([[1, 2, 3],\n",
        "                 [4, 5, 6]])\n",
        "\n",
        "# Split the array into 2 parts horizontally (along columns)\n",
        "result1 = np.hsplit(arr1, 1)\n",
        "\n",
        "# Split the array into 2 parts vertically (along rows)\n",
        "result2 = np.vsplit(arr1, 1)\n",
        "\n",
        "# Print the result of the split\n",
        "print(result1)\n",
        "print(result2)\n",
        "\n"
      ],
      "metadata": {
        "colab": {
          "base_uri": "https://localhost:8080/"
        },
        "id": "X_Q6LDDhda8L",
        "outputId": "a2a0008f-28f2-424e-c6f8-e98e9581430a"
      },
      "execution_count": 36,
      "outputs": [
        {
          "output_type": "stream",
          "name": "stdout",
          "text": [
            "[array([[1, 2, 3],\n",
            "       [4, 5, 6]])]\n",
            "[array([[1, 2, 3],\n",
            "       [4, 5, 6]])]\n"
          ]
        }
      ]
    },
    {
      "cell_type": "markdown",
      "source": [],
      "metadata": {
        "id": "F72USRJXcpaj"
      }
    }
  ]
}