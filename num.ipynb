{
 "cells": [
  {
   "cell_type": "code",
   "execution_count": 1,
   "metadata": {},
   "outputs": [],
   "source": [
    "import numpy as np\n",
    "oned = np.array([1,2,3,4]) #vector\n",
    "twod = np.array([[1,2,3],[4,5,6]])#matrix\n",
    "threed =  np.array([[[1,2,3],[4,5,6],[7,8,9]]]) #tensor\n"
   ]
  },
  {
   "cell_type": "markdown",
   "metadata": {},
   "source": [
    "WAYS TO CREATE ARRAYS IN NUMPIES\n"
   ]
  },
  {
   "cell_type": "code",
   "execution_count": 37,
   "metadata": {},
   "outputs": [
    {
     "data": {
      "text/plain": [
       "array([1.+0.j, 2.+0.j, 3.+0.j])"
      ]
     },
     "execution_count": 37,
     "metadata": {},
     "output_type": "execute_result"
    }
   ],
   "source": [
    "import numpy as np\n",
    "\n",
    "np.array([1,2,3],dtype=float)\n",
    "np.array([1,2,3,4],dtype=bool)\n",
    "np.array([1,2,3],dtype=np.int32)\n",
    "np.array([1,2,3],dtype=complex)"
   ]
  },
  {
   "cell_type": "code",
   "execution_count": 38,
   "metadata": {},
   "outputs": [
    {
     "data": {
      "text/plain": [
       "array([1., 3., 5., 7., 9.])"
      ]
     },
     "execution_count": 38,
     "metadata": {},
     "output_type": "execute_result"
    }
   ],
   "source": [
    "#arange is  same as range\n",
    "# numpy.arange([start,] stop[, step,][, dtype=None])\n",
    "# nction, the dtype argument is used to specify the data type of the resulting array. However, dtype expects a data type (like int, float, etc.), not a Boolean value.\n",
    "\n",
    "np.arange(1,10,2,dtype=float) # last one not included"
   ]
  },
  {
   "cell_type": "code",
   "execution_count": 39,
   "metadata": {},
   "outputs": [],
   "source": [
    "\n",
    "np.arange(1,11).reshape(2,5) # row x col\n",
    "a =  np.arange(5)\n",
    "new_a =  np.reshape(a,(5,1)) \n",
    "# no product should be equal to total array elements\n"
   ]
  },
  {
   "cell_type": "code",
   "execution_count": 40,
   "metadata": {},
   "outputs": [
    {
     "data": {
      "text/plain": [
       "array([[3, 0],\n",
       "       [3, 2],\n",
       "       [7, 9],\n",
       "       [7, 6],\n",
       "       [9, 1]], dtype=int32)"
      ]
     },
     "execution_count": 40,
     "metadata": {},
     "output_type": "execute_result"
    }
   ],
   "source": [
    "np.ones((2,2),dtype=int) # default type float\n",
    "np.zeros ((2,2),dtype=bool)\n",
    "# use : ghn bh foran koi value initiazlize krni h with digit u may use np.ones or np.zeros or random values\n",
    "np.zeros((1,10),dtype=int)\n",
    "np.random.random((2,2))\n",
    "# The np.random.random function in NumPy does not have a dtype parameter. It generates random floating-point numbers between 0 and 1 in the specified shape. If you want integers, you should use np.random.randint instead\n",
    "np.random.randint(0,10,(5,2))"
   ]
  },
  {
   "cell_type": "code",
   "execution_count": 41,
   "metadata": {},
   "outputs": [
    {
     "data": {
      "text/plain": [
       "array([[1., 0., 0., 0., 0.],\n",
       "       [0., 1., 0., 0., 0.],\n",
       "       [0., 0., 1., 0., 0.],\n",
       "       [0., 0., 0., 1., 0.],\n",
       "       [0., 0., 0., 0., 1.]])"
      ]
     },
     "execution_count": 41,
     "metadata": {},
     "output_type": "execute_result"
    }
   ],
   "source": [
    "# np.linspace creates numbers evenly spaced between two values.\n",
    "np.linspace(-10,11,10)\n",
    "# by default last range value i.e here 11 is include but to exlude it you may use a paramter endpoint=false in it\n",
    "np.linspace(-10,11,10,endpoint=False)\n",
    "#creates identity matrix\n",
    "np.identity(5)"
   ]
  },
  {
   "cell_type": "markdown",
   "metadata": {},
   "source": [
    "NUMPY ATTRIBUTES"
   ]
  },
  {
   "cell_type": "code",
   "execution_count": null,
   "metadata": {},
   "outputs": [
    {
     "data": {
      "text/plain": [
       "1"
      ]
     },
     "execution_count": 44,
     "metadata": {},
     "output_type": "execute_result"
    }
   ],
   "source": [
    "#ndim tells the dimensions of the given array\n",
    "a = np.arange(1,10)\n",
    "a.ndim\n"
   ]
  },
  {
   "cell_type": "code",
   "execution_count": 1,
   "metadata": {},
   "outputs": [
    {
     "ename": "NameError",
     "evalue": "name 'a' is not defined",
     "output_type": "error",
     "traceback": [
      "\u001b[1;31m---------------------------------------------------------------------------\u001b[0m",
      "\u001b[1;31mNameError\u001b[0m                                 Traceback (most recent call last)",
      "Cell \u001b[1;32mIn[1], line 2\u001b[0m\n\u001b[0;32m      1\u001b[0m \u001b[38;5;66;03m#shape : tells elements in each dimension\u001b[39;00m\n\u001b[1;32m----> 2\u001b[0m \u001b[43ma\u001b[49m\u001b[38;5;241m.\u001b[39mshape\n",
      "\u001b[1;31mNameError\u001b[0m: name 'a' is not defined"
     ]
    }
   ],
   "source": [
    "#shape : tells elements in each dimension\n",
    "a.shape"
   ]
  },
  {
   "cell_type": "code",
   "execution_count": null,
   "metadata": {},
   "outputs": [
    {
     "name": "stdout",
     "output_type": "stream",
     "text": [
      "24\n",
      "4\n"
     ]
    }
   ],
   "source": [
    "# itemsize : tells size of every element \n",
    "# itemsize attribute tells you the size in bytes of each element in a NumPy array\n",
    "\n",
    "\n",
    "# Create an array of integers (default is 64-bit integer)\n",
    "arr = np.array([1, 2, 3])\n",
    "print((arr.itemsize)) \n",
    "# Output: 8 (each integer takes 8 bytes)\n",
    "\n",
    "# Create an array of 32-bit floats\n",
    "arr_float = np.array([1.0, 2.0, 3.0], dtype=np.float32)\n",
    "print(arr_float.itemsize)  \n",
    "# Output: 4 (each float takes 4 bytes)\n",
    "\n"
   ]
  },
  {
   "cell_type": "code",
   "execution_count": 49,
   "metadata": {},
   "outputs": [
    {
     "name": "stdout",
     "output_type": "stream",
     "text": [
      "int64\n"
     ]
    }
   ],
   "source": [
    "#dtype : tells the datatype of your elements/ numpy array\n",
    "print(arr.dtype)"
   ]
  },
  {
   "cell_type": "code",
   "execution_count": 54,
   "metadata": {},
   "outputs": [
    {
     "name": "stdout",
     "output_type": "stream",
     "text": [
      "[[ True  True]\n",
      " [ True  True]\n",
      " [ True  True]\n",
      " [ True  True]\n",
      " [ True  True]]\n"
     ]
    }
   ],
   "source": [
    "# In NumPy, astype is a method used to convert the data type of an array to a different type. It creates a new array with the specified data type, leaving the original array unchanged.\n",
    "\n",
    "# array.astype(new_type)\n",
    "import numpy as np\n",
    "demo = np.arange(1,11).reshape(5,2)\n",
    "test = demo.astype(bool)\n",
    "print(test)\n"
   ]
  },
  {
   "cell_type": "code",
   "execution_count": 2,
   "metadata": {},
   "outputs": [
    {
     "name": "stdout",
     "output_type": "stream",
     "text": [
      "BEFORE CHANAGE\n",
      "int64 int64 int64  \n",
      "int64 int64 int64  \n",
      "int64 int64 int64  \n",
      " \n",
      "AFTER CHANGE: \n",
      "int64 int64 int64  \n",
      "int64 int64 int64  \n",
      "int64 int64 int64  \n"
     ]
    }
   ],
   "source": [
    "#  change the data type to int8  of given  2d array i.e middle row\n",
    "array = np.arange(1,10).reshape(3,3)\n",
    "print('BEFORE CHANAGE')\n",
    "for i in range(len(array)):\n",
    "    for j in range(len(array[0])):\n",
    "        print(np.dtype(array[i][j]),end= \" \")\n",
    "    print(' ')\n",
    "print(\" \")\n",
    "print(\"AFTER CHANGE: \")\n",
    "\n",
    "for i in range(len(array)):\n",
    "    array[i][1] = np.int8(array[i][1])\n",
    "for i in range(len(array)):\n",
    "    for j in range(len(array[0])):\n",
    "        print(np.dtype(array[i][j]),end= \" \")\n",
    "    print(' ')"
   ]
  }
 ],
 "metadata": {
  "kernelspec": {
   "display_name": "Python 3",
   "language": "python",
   "name": "python3"
  },
  "language_info": {
   "codemirror_mode": {
    "name": "ipython",
    "version": 3
   },
   "file_extension": ".py",
   "mimetype": "text/x-python",
   "name": "python",
   "nbconvert_exporter": "python",
   "pygments_lexer": "ipython3",
   "version": "3.12.4"
  }
 },
 "nbformat": 4,
 "nbformat_minor": 2
}
