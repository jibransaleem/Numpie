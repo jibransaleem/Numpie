{
  "nbformat": 4,
  "nbformat_minor": 0,
  "metadata": {
    "colab": {
      "provenance": []
    },
    "kernelspec": {
      "name": "python3",
      "display_name": "Python 3"
    },
    "language_info": {
      "name": "python"
    }
  },
  "cells": [
    {
      "cell_type": "code",
      "execution_count": 1,
      "metadata": {
        "id": "lYhokxpFxAb9"
      },
      "outputs": [],
      "source": [
        "import numpy as np"
      ]
    },
    {
      "cell_type": "code",
      "source": [
        "def febonachi(n):\n",
        "  alpha = (1+np.sqrt(5))/2\n",
        "  beta = (1-np.sqrt(5))/2\n",
        "  return int( (alpha**n - beta**n)*(1/np.sqrt(5)))\n",
        "array = np.arange(1,11)\n",
        "length = len(array)\n",
        "numbers= []\n",
        "for i in range(length):\n",
        "  numbers.append(febonachi(i))\n",
        "print(numbers)\n",
        "\n"
      ],
      "metadata": {
        "colab": {
          "base_uri": "https://localhost:8080/"
        },
        "id": "U4uM0OjwxDgK",
        "outputId": "f60a150e-808f-43e9-a4c2-79354cd6dec8"
      },
      "execution_count": 39,
      "outputs": [
        {
          "output_type": "stream",
          "name": "stdout",
          "text": [
            "[0, 1, 1, 2, 3, 5, 8, 13, 21, 34]\n"
          ]
        }
      ]
    },
    {
      "cell_type": "code",
      "source": [
        "array = np.array([1,2,3,0,0,0,1,0,0,0,0])\n",
        "counts = np.where(array==0)\n",
        "len(counts[0])"
      ],
      "metadata": {
        "colab": {
          "base_uri": "https://localhost:8080/"
        },
        "id": "E7RRTUrk3TSL",
        "outputId": "7d21d836-3d0f-4dc8-8608-b658e3bea31c"
      },
      "execution_count": 55,
      "outputs": [
        {
          "output_type": "execute_result",
          "data": {
            "text/plain": [
              "7"
            ]
          },
          "metadata": {},
          "execution_count": 55
        }
      ]
    },
    {
      "cell_type": "code",
      "source": [
        "array  =  np.arange(1,10).reshape(3,3)\n",
        "array.astype(np.int8)\n",
        "array\n"
      ],
      "metadata": {
        "colab": {
          "base_uri": "https://localhost:8080/"
        },
        "id": "ZIbPC3pC5GRa",
        "outputId": "281dc5ab-c76d-4f84-a46a-8d0e2d291e24"
      },
      "execution_count": 72,
      "outputs": [
        {
          "output_type": "execute_result",
          "data": {
            "text/plain": [
              "array([[1, 2, 3],\n",
              "       [4, 5, 6],\n",
              "       [7, 8, 9]])"
            ]
          },
          "metadata": {},
          "execution_count": 72
        }
      ]
    },
    {
      "cell_type": "code",
      "source": [
        "array =  np.zeros(3)\n",
        "array[2] = 99\n",
        "#making the numpy array only readable\n",
        "array.setflags(write=False)\n",
        "array[0] = 1000\n",
        "array"
      ],
      "metadata": {
        "colab": {
          "base_uri": "https://localhost:8080/"
        },
        "id": "_7cehWBe7GwS",
        "outputId": "47769216-1c3f-4da7-8ddb-2375ff072080"
      },
      "execution_count": 77,
      "outputs": [
        {
          "output_type": "execute_result",
          "data": {
            "text/plain": [
              "array([1000.,    0.,   99.])"
            ]
          },
          "metadata": {},
          "execution_count": 77
        }
      ]
    },
    {
      "cell_type": "code",
      "source": [
        "array =  np.array([0,0,0,1,1,1,2,3,4,0,0,0,0])\n",
        "#with built in\n",
        "np.trim_zeros(array) #BUILT IN METHOD\n",
        "#second way\n",
        "indices  = np.where(array!=0)\n",
        "array[indices]\n",
        "#third\n",
        "MASK  = array!=0\n",
        "array[MASK]"
      ],
      "metadata": {
        "colab": {
          "base_uri": "https://localhost:8080/"
        },
        "id": "QM0TxRuA7taK",
        "outputId": "f743e59d-a7c1-43d5-a033-2033197eb055"
      },
      "execution_count": 81,
      "outputs": [
        {
          "output_type": "execute_result",
          "data": {
            "text/plain": [
              "array([1, 1, 1, 2, 3, 4])"
            ]
          },
          "metadata": {},
          "execution_count": 81
        }
      ]
    },
    {
      "cell_type": "code",
      "source": [
        "a =  np.random.randint(1,100,9).reshape(3,3)\n",
        "print(a)\n",
        "Sum = np.sum(np.diagonal(a))\n",
        "Sum"
      ],
      "metadata": {
        "colab": {
          "base_uri": "https://localhost:8080/"
        },
        "id": "JUGQ0HIK8rsb",
        "outputId": "9ec2971f-6c0e-446c-fba1-f74783740d9b"
      },
      "execution_count": 87,
      "outputs": [
        {
          "output_type": "stream",
          "name": "stdout",
          "text": [
            "[[30  3 86]\n",
            " [79 46 71]\n",
            " [71 75 77]]\n"
          ]
        },
        {
          "output_type": "execute_result",
          "data": {
            "text/plain": [
              "153"
            ]
          },
          "metadata": {},
          "execution_count": 87
        }
      ]
    },
    {
      "cell_type": "code",
      "source": [
        "#adding new row in numpy\n",
        "#1)GIVEN\n",
        "array =  np.random.randint(1,100,9).reshape(3,3)\n",
        "print(\"ORIGNAL ARRAY\")\n",
        "print(array)\n",
        "new_row = np.array([200,300,400])\n",
        "array[0] = new_row\n",
        "print(\"MODIFIED ARRAY\")\n",
        "print(array)\n",
        "#MATCHES\n",
        "a =  np.random.randint(1,100,9).reshape(3,3)\n",
        "new_col = np.array([1000,4000,6000]).reshape(3,1)\n",
        "# np.where(a[0])\n"
      ],
      "metadata": {
        "colab": {
          "base_uri": "https://localhost:8080/"
        },
        "id": "w5wEPgff-DTK",
        "outputId": "a4822c4a-4f91-4625-b78d-1a36c8851fba"
      },
      "execution_count": 95,
      "outputs": [
        {
          "output_type": "stream",
          "name": "stdout",
          "text": [
            "ORIGNAL ARRAY\n",
            "[[29 56 28]\n",
            " [90 56 59]\n",
            " [73 55 49]]\n",
            "MODIFIED ARRAY\n",
            "[[200 300 400]\n",
            " [ 90  56  59]\n",
            " [ 73  55  49]]\n"
          ]
        },
        {
          "output_type": "execute_result",
          "data": {
            "text/plain": [
              "array([[1000],\n",
              "       [4000],\n",
              "       [6000]])"
            ]
          },
          "metadata": {},
          "execution_count": 95
        }
      ]
    }
  ]
}