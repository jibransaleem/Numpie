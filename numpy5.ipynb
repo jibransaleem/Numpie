{
  "nbformat": 4,
  "nbformat_minor": 0,
  "metadata": {
    "colab": {
      "provenance": []
    },
    "kernelspec": {
      "name": "python3",
      "display_name": "Python 3"
    },
    "language_info": {
      "name": "python"
    }
  },
  "cells": [
    {
      "cell_type": "code",
      "execution_count": 23,
      "metadata": {
        "id": "SS_nBrAMiO-Q"
      },
      "outputs": [],
      "source": []
    },
    {
      "cell_type": "markdown",
      "source": [
        "NUMPY TRICKS\n"
      ],
      "metadata": {
        "id": "o3BimZP_r8A3"
      }
    },
    {
      "cell_type": "markdown",
      "source": [
        "SORTING\n"
      ],
      "metadata": {
        "id": "uI6qk0JxwMTn"
      }
    },
    {
      "cell_type": "code",
      "source": [
        "import numpy as np\n",
        "#sort\n",
        "a = np.arange(1,10).reshape(3,3)\n",
        "np.sort(a) #np.sort .\n",
        "#the reason we are not using pything sort is that that will return python list not numpy array\n",
        "b = np.random.randint(1,100,9).reshape(3,3)\n",
        "print(np.sort(b,axis=1)) #by default row wise : axis 1\n",
        "print(np.sort(b,axis=0))# col wise :axis 1\n",
        "#sort decending\n",
        "print(np.sort(a)[::-1])  #sort decending vice\n",
        "\n"
      ],
      "metadata": {
        "colab": {
          "base_uri": "https://localhost:8080/"
        },
        "collapsed": true,
        "id": "eQixmUt6r9qz",
        "outputId": "2c8fa340-2fe3-4555-fef4-d50b9449abbe"
      },
      "execution_count": 31,
      "outputs": [
        {
          "output_type": "stream",
          "name": "stdout",
          "text": [
            "[[50 53 86]\n",
            " [ 7  9 71]\n",
            " [ 7 48 82]]\n",
            "[[48  9  7]\n",
            " [71 53  7]\n",
            " [86 82 50]]\n",
            "[[7 8 9]\n",
            " [4 5 6]\n",
            " [1 2 3]]\n"
          ]
        }
      ]
    },
    {
      "cell_type": "markdown",
      "source": [
        "APPEND\n"
      ],
      "metadata": {
        "id": "JgweRgxowZcL"
      }
    },
    {
      "cell_type": "code",
      "source": [
        "b =  np.arange(1,10).reshape(3,3)\n",
        "print(b)\n",
        "np.append(b,np.ones((b.shape[0],1),dtype=int),axis=1)\n",
        "# adding a new col to a 2d array\n",
        "#b.shape[0] no of rows\n",
        "#ADDING NEW ROW AND COLS\n",
        "#MAKE A NEW COL\n",
        "new_col = np.random.randint(1,100,(3,1))\n",
        "#APPEND TO ARRAY AND STORE  MODIFIED ARRAY\n",
        "new_col_array = np.append(b,new_col,axis=1)\n",
        "new_row = np.random.randint(1,100,(1,4))\n",
        "#APPENDED NEW ROW IN THE MODIFIED ARRAY\n",
        "np.append(new_col_array,new_row,axis=0)\n"
      ],
      "metadata": {
        "colab": {
          "base_uri": "https://localhost:8080/"
        },
        "id": "TrUYmx1nwYUg",
        "outputId": "fadf0635-93c6-4cec-9d22-a5b011382679"
      },
      "execution_count": 66,
      "outputs": [
        {
          "output_type": "stream",
          "name": "stdout",
          "text": [
            "[[1 2 3]\n",
            " [4 5 6]\n",
            " [7 8 9]]\n"
          ]
        },
        {
          "output_type": "execute_result",
          "data": {
            "text/plain": [
              "array([[ 1,  2,  3, 49],\n",
              "       [ 4,  5,  6, 38],\n",
              "       [ 7,  8,  9, 31],\n",
              "       [17, 55, 23, 46]])"
            ]
          },
          "metadata": {},
          "execution_count": 66
        }
      ]
    },
    {
      "cell_type": "markdown",
      "source": [
        "CONCATINATE\n"
      ],
      "metadata": {
        "id": "MI7FUwRD7ShK"
      }
    },
    {
      "cell_type": "code",
      "source": [
        "a  =  np.arange(6).reshape(2,3)\n",
        "b =  np.arange(6,12).reshape(2,3)\n",
        "np.concatenate((a,b),axis=0)\n",
        "np.concatenate((a,b),axis=1)"
      ],
      "metadata": {
        "colab": {
          "base_uri": "https://localhost:8080/"
        },
        "id": "pzPnJPhs7KaH",
        "outputId": "e2ec1a5e-3846-400c-e79a-c0f6a7b1720a"
      },
      "execution_count": 74,
      "outputs": [
        {
          "output_type": "stream",
          "name": "stdout",
          "text": [
            "[[ 0  1  2  6  7  8]\n",
            " [ 3  4  5  9 10 11]]\n"
          ]
        },
        {
          "output_type": "execute_result",
          "data": {
            "text/plain": [
              "array([[ 0,  1,  2,  6,  7,  8],\n",
              "       [ 3,  4,  5,  9, 10, 11]])"
            ]
          },
          "metadata": {},
          "execution_count": 74
        }
      ]
    },
    {
      "cell_type": "markdown",
      "source": [
        "UNIQUE\n"
      ],
      "metadata": {
        "id": "fapy1GDG8eI0"
      }
    },
    {
      "cell_type": "code",
      "source": [
        "#give unique elements from  given numpy array in sorted order\n",
        "array  = np.array([11,1,111,1,1,1,0,0,0,0,121,2,1,2,121,2,3])\n",
        "np.unique(array)"
      ],
      "metadata": {
        "colab": {
          "base_uri": "https://localhost:8080/"
        },
        "id": "TE0V6vFl8fPl",
        "outputId": "03bb5e4a-0242-4bf3-ec44-59370da298bf"
      },
      "execution_count": 75,
      "outputs": [
        {
          "output_type": "execute_result",
          "data": {
            "text/plain": [
              "array([  0,   1,   2,   3,  11, 111, 121])"
            ]
          },
          "metadata": {},
          "execution_count": 75
        }
      ]
    }
  ]
}