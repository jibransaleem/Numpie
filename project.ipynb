{
  "nbformat": 4,
  "nbformat_minor": 0,
  "metadata": {
    "colab": {
      "provenance": []
    },
    "kernelspec": {
      "name": "python3",
      "display_name": "Python 3"
    },
    "language_info": {
      "name": "python"
    }
  },
  "cells": [
    {
      "cell_type": "code",
      "execution_count": null,
      "metadata": {
        "id": "auFGTv6C8LRX"
      },
      "outputs": [],
      "source": [
        "import pyaudio\n",
        "import wave\n",
        "p= pyaudio.PyAudio()\n",
        "Format  = pyaudio.paInt32\n",
        "channel  = 1\n",
        "rate = 44100\n",
        "frames_per_Buffer  = 1024\n",
        "Duration  = 10\n",
        "permission = input(\"Enter [Y] to start recording else press any key ! \").lower()\n",
        "\n",
        "stream  =  p.Stream(channels=channel,\n",
        "    input=True,\n",
        "    frames_per_buffer = frames_per_Buffer,\n",
        "    duration = Duration,\n",
        "    format=Format)\n",
        "print(\"Recording....  \")\n",
        "audio_data = []\n",
        "for i in range(int((rate/frames_per_Buffer)*Duration)):\n",
        "    data =  stream.read(frames_per_Buffer)\n",
        "    audio_data.append(data)\n",
        "print(\"STOPPED....\")\n",
        "#stop recroding and close it\n",
        "stream.stop_stream()\n",
        "stream.close()\n",
        "p.terminate()\n",
        "\n",
        "# now deal with wave file format"
      ]
    }
  ]
}