{
  "nbformat": 4,
  "nbformat_minor": 0,
  "metadata": {
    "colab": {
      "provenance": []
    },
    "kernelspec": {
      "name": "python3",
      "display_name": "Python 3"
    },
    "language_info": {
      "name": "python"
    }
  },
  "cells": [
    {
      "cell_type": "code",
      "execution_count": null,
      "metadata": {
        "id": "1M0AH0fSr3VF"
      },
      "outputs": [],
      "source": [
        "import numpy as np"
      ]
    },
    {
      "cell_type": "markdown",
      "source": [
        "CORRCOEF:CO-RELAION COFFICIENT\n",
        "\n",
        "The correlation coefficient, often denoted as r.\n",
        "It measures the strength and direction of a linear relationship between two variables. It provides a value between -1 and +1:\n",
        "\n",
        "+1: Perfect positive correlation — as one variable increases, the other also increases in a perfectly linear manner.\n",
        "\n",
        "-1: Perfect negative correlation — as one variable increases, the other decreases in a perfectly linear manner.\n",
        "0: No correlation — there is no linear relationship between the two variables.\n"
      ],
      "metadata": {
        "id": "8EM3StDYsMZ4"
      }
    },
    {
      "cell_type": "code",
      "source": [
        "#koi do quantities  kitni co realated hen apas ma , ik k change s dosre pr frq\n",
        "salary  =  np.array([100,200,300,400,500])\n",
        "exp = np.array([1,2,3,1,10])\n",
        "np.corrcoef(salary,exp)"
      ],
      "metadata": {
        "colab": {
          "base_uri": "https://localhost:8080/"
        },
        "id": "Z740RxsYsT31",
        "outputId": "053978cd-faba-4e69-d9db-1b9ce7cbe9ef"
      },
      "execution_count": null,
      "outputs": [
        {
          "output_type": "execute_result",
          "data": {
            "text/plain": [
              "array([[1.        , 0.71080571],\n",
              "       [0.71080571, 1.        ]])"
            ]
          },
          "metadata": {},
          "execution_count": 4
        }
      ]
    },
    {
      "cell_type": "markdown",
      "source": [
        "ISIN\n",
        "\n",
        "checks if items are present in given array or not , take both single and multiple items to search and return boolean ans\n"
      ],
      "metadata": {
        "id": "hW5tzn0Kvay7"
      }
    },
    {
      "cell_type": "code",
      "source": [
        "items =  np.array([10,20,30,40,50,60,70,80,100])\n",
        "main_array = np.array([10,30,60,100])\n",
        "np.isin(main_array,items)"
      ],
      "metadata": {
        "colab": {
          "base_uri": "https://localhost:8080/"
        },
        "id": "mMXmBPUovcVK",
        "outputId": "96775aff-a231-45c2-89fb-698bca617ffa"
      },
      "execution_count": null,
      "outputs": [
        {
          "output_type": "execute_result",
          "data": {
            "text/plain": [
              "array([ True,  True,  True,  True])"
            ]
          },
          "metadata": {},
          "execution_count": 5
        }
      ]
    },
    {
      "cell_type": "markdown",
      "source": [
        "FLIP\n",
        "\n",
        "Reverse the elements while shape remains same\n"
      ],
      "metadata": {
        "id": "uoUgVA5lwbz-"
      }
    },
    {
      "cell_type": "code",
      "source": [
        "a =  np.array([10,20,30,40,50,60,70,809,90]).reshape(3,3)\n",
        "print(a)\n",
        "# for 2 d arrays both col and row  wise reverse  by default\n",
        "np.flip(a)\n",
        "np.flip(a,axis=0)\n",
        "np.flip(a,axis=1)\n"
      ],
      "metadata": {
        "colab": {
          "base_uri": "https://localhost:8080/"
        },
        "id": "F1bz3vvAwbD1",
        "outputId": "f13ec290-da76-4090-adef-f7689ca56f2b"
      },
      "execution_count": null,
      "outputs": [
        {
          "output_type": "stream",
          "name": "stdout",
          "text": [
            "[[ 10  20  30]\n",
            " [ 40  50  60]\n",
            " [ 70 809  90]]\n"
          ]
        },
        {
          "output_type": "execute_result",
          "data": {
            "text/plain": [
              "array([[ 30,  20,  10],\n",
              "       [ 60,  50,  40],\n",
              "       [ 90, 809,  70]])"
            ]
          },
          "metadata": {},
          "execution_count": 10
        }
      ]
    },
    {
      "cell_type": "markdown",
      "source": [
        "PUT\n",
        "\n",
        "Replaces array with speciefied index in the orignal array"
      ],
      "metadata": {
        "id": "uQnPzZ8wxU2h"
      }
    },
    {
      "cell_type": "code",
      "source": [
        "a =  np.array([10,20,30,40,50,60,70,809,90])\n",
        "b =  np.array([10,20,30,40,50,60,70,809,90]).reshape(3,3)\n",
        "print(b)\n",
        "np.put(a,[0,1],[200,900])\n",
        "#np put works clearry with flat/1d arrays to change a value for 2 d use indexing\n",
        "b[0,1] = 900\n",
        "\n",
        "print(b)"
      ],
      "metadata": {
        "colab": {
          "base_uri": "https://localhost:8080/"
        },
        "id": "YBs1UcbFyceG",
        "outputId": "a494e212-fb88-4b39-bc0d-0ff90530064e"
      },
      "execution_count": null,
      "outputs": [
        {
          "output_type": "stream",
          "name": "stdout",
          "text": [
            "[[ 10  20  30]\n",
            " [ 40  50  60]\n",
            " [ 70 809  90]]\n",
            "[[ 10 900  30]\n",
            " [ 40  50  60]\n",
            " [ 70 809  90]]\n"
          ]
        }
      ]
    },
    {
      "cell_type": "markdown",
      "source": [
        "DELETE\n"
      ],
      "metadata": {
        "id": "vXCbc8F1z9UD"
      }
    },
    {
      "cell_type": "code",
      "source": [
        "a =  np.array([10,20,30,40,50,60,70,809,90]).reshape(3,3)\n",
        "b =  np.array([10,20,30,40,50,60,70,809,90])\n",
        "np.delete(b,[0,1,2])\n",
        "print(a)\n",
        "np.delete(a,1,axis=1)\n",
        "np.delete(a,2,axis=0)\n",
        "\n"
      ],
      "metadata": {
        "colab": {
          "base_uri": "https://localhost:8080/"
        },
        "id": "ht1nI1KNz8mC",
        "outputId": "027a7176-4087-4de5-e98b-35f7e39004cc"
      },
      "execution_count": null,
      "outputs": [
        {
          "output_type": "stream",
          "name": "stdout",
          "text": [
            "[[ 10  20  30]\n",
            " [ 40  50  60]\n",
            " [ 70 809  90]]\n"
          ]
        },
        {
          "output_type": "execute_result",
          "data": {
            "text/plain": [
              "array([[10, 30],\n",
              "       [40, 60],\n",
              "       [70, 90]])"
            ]
          },
          "metadata": {},
          "execution_count": 32
        }
      ]
    },
    {
      "cell_type": "markdown",
      "source": [
        "SET FUNCTIONS"
      ],
      "metadata": {
        "id": "l45lp3Um14a6"
      }
    },
    {
      "cell_type": "markdown",
      "source": [
        "UNION"
      ],
      "metadata": {
        "id": "9alagBmt2TpB"
      }
    },
    {
      "cell_type": "code",
      "source": [
        "b =  np.array([10,20,30,40])\n",
        "a =  np.array([50,60,70,809,90])\n",
        "np.union1d(a,b)\n"
      ],
      "metadata": {
        "colab": {
          "base_uri": "https://localhost:8080/"
        },
        "id": "byHH_-re14yC",
        "outputId": "6d9df3f0-3a3e-4e31-9c80-8e3da82d5e34"
      },
      "execution_count": null,
      "outputs": [
        {
          "output_type": "execute_result",
          "data": {
            "text/plain": [
              "array([ 10,  20,  30,  40,  50,  60,  70,  90, 809])"
            ]
          },
          "metadata": {},
          "execution_count": 33
        }
      ]
    },
    {
      "cell_type": "markdown",
      "source": [
        "INTERSECTION"
      ],
      "metadata": {
        "id": "wH---vku2j6s"
      }
    },
    {
      "cell_type": "code",
      "source": [
        "a =  np.array([10,20,30,40])\n",
        "b =  np.array([50,60,10,40])\n",
        "np.intersect1d(a,b)"
      ],
      "metadata": {
        "colab": {
          "base_uri": "https://localhost:8080/"
        },
        "id": "wrLE3VNm2lri",
        "outputId": "ca1a816e-84da-473e-f458-0c52b7e03a26"
      },
      "execution_count": null,
      "outputs": [
        {
          "output_type": "execute_result",
          "data": {
            "text/plain": [
              "array([10, 40])"
            ]
          },
          "metadata": {},
          "execution_count": 34
        }
      ]
    },
    {
      "cell_type": "markdown",
      "source": [
        "DIFFERENCE\n",
        "\n",
        "Wo items jo srf phle set m hen dosre m nh"
      ],
      "metadata": {
        "id": "ic64sDLB2vjZ"
      }
    },
    {
      "cell_type": "code",
      "source": [
        "a =  np.array([10,20,30,40])\n",
        "b =  np.array([50,60,10,40])\n",
        "np.setdiff1d(a,b)\n",
        "np.setdiff1d(b,a)"
      ],
      "metadata": {
        "colab": {
          "base_uri": "https://localhost:8080/"
        },
        "id": "kp_--qGA22kx",
        "outputId": "8c88d148-0298-43f2-e110-b0e025513bc5"
      },
      "execution_count": null,
      "outputs": [
        {
          "output_type": "execute_result",
          "data": {
            "text/plain": [
              "array([50, 60])"
            ]
          },
          "metadata": {},
          "execution_count": 36
        }
      ]
    },
    {
      "cell_type": "markdown",
      "source": [
        "SET XOR\n",
        "\n",
        "remove common from both arrays"
      ],
      "metadata": {
        "id": "Bjn87-LF3LR_"
      }
    },
    {
      "cell_type": "code",
      "source": [
        "a =  np.array([10,20,30,40])\n",
        "b =  np.array([50,60,10,40])\n",
        "np.setxor1d(a,b)"
      ],
      "metadata": {
        "colab": {
          "base_uri": "https://localhost:8080/"
        },
        "id": "L2Cubc2T3GXN",
        "outputId": "4c4e63c3-5f94-4246-cda9-7906d22b12ed"
      },
      "execution_count": null,
      "outputs": [
        {
          "output_type": "execute_result",
          "data": {
            "text/plain": [
              "array([20, 30, 50, 60])"
            ]
          },
          "metadata": {},
          "execution_count": 37
        }
      ]
    },
    {
      "cell_type": "markdown",
      "source": [
        "CLIP\n",
        "\n",
        "removes elements that are not with in specified range\n"
      ],
      "metadata": {
        "id": "a956xUH63iy3"
      }
    },
    {
      "cell_type": "code",
      "source": [
        "\n",
        "a = np.arange(1, 100)  # This creates an array of integers from 1 to 99\n",
        "result = np.clip(a, a_min=30, a_max=60)  # Clips values less than 30 to 30, and values greater than 60 to 60\n",
        "print(result)\n",
        "# This is the expected result when clipping the array.\n",
        "# The values below 30 are replaced with 30, and the values above 60 are replaced with 60,\n",
        "# while the values between 30 and 60 remain as they are.\n"
      ],
      "metadata": {
        "colab": {
          "base_uri": "https://localhost:8080/"
        },
        "id": "_tvWSrYJ5BqO",
        "outputId": "2c0a6370-3797-4d1f-9595-005ba6c82f73"
      },
      "execution_count": 46,
      "outputs": [
        {
          "output_type": "stream",
          "name": "stdout",
          "text": [
            "[30 30 30 30 30 30 30 30 30 30 30 30 30 30 30 30 30 30 30 30 30 30 30 30\n",
            " 30 30 30 30 30 30 31 32 33 34 35 36 37 38 39 40 41 42 43 44 45 46 47 48\n",
            " 49 50 51 52 53 54 55 56 57 58 59 60 60 60 60 60 60 60 60 60 60 60 60 60\n",
            " 60 60 60 60 60 60 60 60 60 60 60 60 60 60 60 60 60 60 60 60 60 60 60 60\n",
            " 60 60 60]\n"
          ]
        }
      ]
    }
  ]
}