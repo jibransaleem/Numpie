{
  "nbformat": 4,
  "nbformat_minor": 0,
  "metadata": {
    "colab": {
      "provenance": []
    },
    "kernelspec": {
      "name": "python3",
      "display_name": "Python 3"
    },
    "language_info": {
      "name": "python"
    }
  },
  "cells": [
    {
      "cell_type": "code",
      "execution_count": 10,
      "metadata": {
        "colab": {
          "base_uri": "https://localhost:8080/"
        },
        "id": "hW2KTYYHjIpT",
        "outputId": "19931889-20ca-4ddb-bef0-4feee11a9e6e"
      },
      "outputs": [
        {
          "output_type": "stream",
          "name": "stdout",
          "text": [
            "(1, 10)\n",
            "[[0]\n",
            " [1]\n",
            " [2]\n",
            " [3]\n",
            " [4]\n",
            " [5]\n",
            " [6]\n",
            " [7]\n",
            " [8]\n",
            " [9]]\n"
          ]
        }
      ],
      "source": [
        "import numpy as np\n",
        "#expand dimensions\n",
        "# The numpy.expand_dims function is used to add a new axis (or dimension) to a NumPy array, which effectively increases the dimensionality of the array.\n",
        "# numpy.expand_dims(a, axis)\n",
        "\n",
        "# It can also be useful when preparing data for machine learning models, where input arrays need specific dimensionalities (e.g., adding a batch dimension to data).\n",
        "# in the context of machine learning, a batch refers to a subset of the dataset that is processed together in a single iteration of training or inference.\n",
        "\n",
        "# The concept of a batch is closely tied to batch processing, which helps efficiently manage large datasets by splitting them into smaller chunks (batches) for easier handling and faster computat\n",
        "array = np.arange(10)\n",
        "print(np.expand_dims(array,axis=0).shape) #converts 1d array into 2d #1 row - 10 col\n",
        "print(np.expand_dims(array,axis=1)) # converts 1d-array into 2d #1 col - 10 rows\n",
        "\n"
      ]
    },
    {
      "cell_type": "markdown",
      "source": [
        "WHERE\n",
        "\n",
        "Returns all the indices to which given condition is fullfilled"
      ],
      "metadata": {
        "id": "8fLI9fEMnbK_"
      }
    },
    {
      "cell_type": "code",
      "source": [
        "# numpy.where(condition, [x, y])\n",
        "# condition: An array-like object (e.g., a NumPy array or a condition) that returns True or False for each element.\n",
        "# x: Values to select when the condition is True.\n",
        "# y: Values to select when the condition is False.\n",
        "# The x and y parameters are optional. If only the condition parameter is provided, numpy.where will return the indices of the elements where the condition is True.\n",
        "a =  np.arange(10)\n",
        "# np.where(a>4)    #returns only the indices where value is greater than 4\n",
        "np.where(a>4 , \"it is greater than 4\",\"it is less than 4\")\n",
        "np.where((a>5) & (a<10) , \"It is between 5 and 10 \",\"Out of range\") # WHEN FOR AND CONDTION  USE &\n",
        "# No, arrays are not scalars. In NumPy, scalars refer to single values (e.g., a single number), while arrays are collections of values.\n",
        "# hen you're working with arrays and need to combine multiple conditions, you must use the bitwise operators like & (AND), | (OR), and ~ (NOT),\n",
        "#  rather than the logical operators like and, or, and not which are meant for scalar (single value) operations.\n",
        "# and, or, and not are logical operators used to combine boolean values in Python. These operators work with single boolean values (i.e., scalars), not with arrays.\n"
      ],
      "metadata": {
        "colab": {
          "base_uri": "https://localhost:8080/"
        },
        "id": "ATibxAQqlzeu",
        "outputId": "ec2e6f34-2404-43d9-8e4b-f77f02434066"
      },
      "execution_count": 14,
      "outputs": [
        {
          "output_type": "execute_result",
          "data": {
            "text/plain": [
              "array(['Out of range', 'Out of range', 'Out of range', 'Out of range',\n",
              "       'Out of range', 'Out of range', 'It is between 5 and 10 ',\n",
              "       'It is between 5 and 10 ', 'It is between 5 and 10 ',\n",
              "       'It is between 5 and 10 '], dtype='<U23')"
            ]
          },
          "metadata": {},
          "execution_count": 14
        }
      ]
    },
    {
      "cell_type": "markdown",
      "source": [
        "ARGMAX and ARGMIN\n"
      ],
      "metadata": {
        "id": "jWSsh9ONqulE"
      }
    },
    {
      "cell_type": "code",
      "source": [
        "# NumPy, argmax is a function that returns the index of the maximum value along a specified axis or in the entire array.\n",
        "# It is commonly used to find the position of the largest element in an array\n"
      ],
      "metadata": {
        "id": "0FqIJM8YqtwE"
      },
      "execution_count": null,
      "outputs": []
    },
    {
      "cell_type": "code",
      "source": [
        "a =  np.arange(1,10).reshape(3,3)\n",
        "b =  np.random.randint(1,100,size=9).reshape(3,3)\n",
        "print(np.argmin(a))\n",
        "print(b)\n",
        "np.argmax(a) # returnds 8 , which is the index of 9\n",
        "np.argmax(b,axis=1) #0 along y axis\n",
        "np.argmax(b,axis=0) #1 along x axis"
      ],
      "metadata": {
        "colab": {
          "base_uri": "https://localhost:8080/"
        },
        "id": "bDPpibINqjbe",
        "outputId": "aef6edd3-2923-4942-b6ab-486f09131bd1"
      },
      "execution_count": 36,
      "outputs": [
        {
          "output_type": "stream",
          "name": "stdout",
          "text": [
            "0\n",
            "[[93 83 12]\n",
            " [64 14  8]\n",
            " [32 48 94]]\n"
          ]
        },
        {
          "output_type": "execute_result",
          "data": {
            "text/plain": [
              "array([0, 0, 2])"
            ]
          },
          "metadata": {},
          "execution_count": 36
        }
      ]
    },
    {
      "cell_type": "markdown",
      "source": [
        "CUMSUM\n",
        "\n",
        "np.cumsum() returns the cumulative sum of an array. The cumulative sum means that each element in the output array is the sum of all previous elements up to that position, including the current one."
      ],
      "metadata": {
        "id": "5kqselKkviqe"
      }
    },
    {
      "cell_type": "code",
      "source": [
        "# computes the total sum of an array (i.e., the sum of all elements in the array).\n",
        "#  It does not return an array; instead, it returns a single scalar value that is the sum of all elements.\n",
        "array  =  np.random.randint(1,100,size=9).reshape(3,3)\n",
        "print(array)\n",
        "np.cumsum(array,axis=0)\n"
      ],
      "metadata": {
        "colab": {
          "base_uri": "https://localhost:8080/"
        },
        "id": "Nr6DdL0YvlLN",
        "outputId": "353a7c00-15fd-4443-98e7-ace33bd2d7da"
      },
      "execution_count": 40,
      "outputs": [
        {
          "output_type": "stream",
          "name": "stdout",
          "text": [
            "[[63 59 96]\n",
            " [66 43  1]\n",
            " [34 37 42]]\n"
          ]
        },
        {
          "output_type": "execute_result",
          "data": {
            "text/plain": [
              "array([[ 63,  59,  96],\n",
              "       [129, 102,  97],\n",
              "       [163, 139, 139]])"
            ]
          },
          "metadata": {},
          "execution_count": 40
        }
      ]
    },
    {
      "cell_type": "markdown",
      "source": [
        "CUMPRODUCT\n",
        "\n",
        "np.cumprod() works in a similar way to np.cumsum(), but instead of summing elements cumulatively, it calculates the cumulative product. This means it computes the product of elements up to the current position, rather than the sum."
      ],
      "metadata": {
        "id": "WXkMmjOo0Jbb"
      }
    },
    {
      "cell_type": "markdown",
      "source": [
        "PERCENTILE\n",
        "\n",
        "A percentile indicates the relative position or rank of a score within a given dataset. It tells you the percentage of data points that fall below a particular value. For example, if you're in the 90th percentile, it means you scored higher than 90% of the people or data points in that group.\n",
        "\n"
      ],
      "metadata": {
        "id": "Kw9yKqjn2wkC"
      }
    },
    {
      "cell_type": "code",
      "source": [
        "b =  np.random.randint(1,100,size=9)\n",
        "print(b)\n",
        "np.percentile(b,100)\n",
        "np.percentile(b,0)"
      ],
      "metadata": {
        "colab": {
          "base_uri": "https://localhost:8080/"
        },
        "id": "t9r4SxZc2tyC",
        "outputId": "bb171984-0e99-4407-838a-079960c4c8c0"
      },
      "execution_count": 44,
      "outputs": [
        {
          "output_type": "stream",
          "name": "stdout",
          "text": [
            "[86 76 46 54 62 50 62 12 79]\n"
          ]
        },
        {
          "output_type": "execute_result",
          "data": {
            "text/plain": [
              "12.0"
            ]
          },
          "metadata": {},
          "execution_count": 44
        }
      ]
    },
    {
      "cell_type": "markdown",
      "source": [
        "HISTOGRAM"
      ],
      "metadata": {
        "id": "Pew76Whu4FKa"
      }
    },
    {
      "cell_type": "code",
      "source": [
        "b =  np.random.randint(1,100,size=10)\n",
        "print(b)\n",
        "# The function np.histogram() in NumPy is used to compute the histogram of a set of data\n",
        "# . It essentially divides the data into specified bins (intervals) and counts how many data points fall into each bin.\n",
        "np.histogram(b,bins=[10,20,30,40,50,60,70,80,90,100])\n",
        "#  : values between 0-10 , 10-20 , 20-30 they are bins"
      ],
      "metadata": {
        "colab": {
          "base_uri": "https://localhost:8080/"
        },
        "id": "KcRtjoL-368z",
        "outputId": "8d37556a-dedf-43ca-83bb-d9b0a206e72c"
      },
      "execution_count": 47,
      "outputs": [
        {
          "output_type": "stream",
          "name": "stdout",
          "text": [
            "[69 28 10 39 69 44 49 80 67 72]\n"
          ]
        },
        {
          "output_type": "execute_result",
          "data": {
            "text/plain": [
              "(array([1, 1, 1, 2, 0, 3, 1, 1, 0]),\n",
              " array([ 10,  20,  30,  40,  50,  60,  70,  80,  90, 100]))"
            ]
          },
          "metadata": {},
          "execution_count": 47
        }
      ]
    }
  ]
}