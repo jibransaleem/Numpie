{
  "nbformat": 4,
  "nbformat_minor": 0,
  "metadata": {
    "colab": {
      "provenance": []
    },
    "kernelspec": {
      "name": "python3",
      "display_name": "Python 3"
    },
    "language_info": {
      "name": "python"
    }
  },
  "cells": [
    {
      "cell_type": "code",
      "execution_count": 1,
      "metadata": {
        "id": "rzLzi9YTxl1a"
      },
      "outputs": [],
      "source": [
        "import numpy as np"
      ]
    },
    {
      "cell_type": "code",
      "source": [
        "#z score minimization\n",
        "# When we talk about normalizing a matrix (or a dataset in general,\n",
        "# we're referring to the process of adjusting the values so that they meet certain conditions, often to make them more suitable for further analysis or\n",
        "# #  to improve the performance of machine learning algorithms. Let's break this down in simple terms:0\n",
        "# normalized value = value-mean_of_data/standard dev of the data\n",
        "array = np.random.randint(1,1000,25).reshape(5,5)\n",
        "normalization  = (array-np.mean(array))/np.std(array)\n",
        "normalization"
      ],
      "metadata": {
        "colab": {
          "base_uri": "https://localhost:8080/"
        },
        "id": "adeImdKVxppR",
        "outputId": "9b226371-7967-4907-839d-3473ec8dc178"
      },
      "execution_count": 3,
      "outputs": [
        {
          "output_type": "execute_result",
          "data": {
            "text/plain": [
              "array([[ 1.11084878e+00, -1.06695506e+00, -4.08549246e-01,\n",
              "        -2.43947794e-01,  1.40628728e+00],\n",
              "       [-4.80298597e-01,  1.32187628e+00,  4.44001867e-01,\n",
              "         2.58297664e-01, -1.67471427e+00],\n",
              "       [ 4.48222417e-01, -6.02694549e-01,  8.44110013e-04,\n",
              "        -1.35817301e+00, -4.54975297e-01],\n",
              "       [ 2.32974364e-01, -6.61782250e-01,  5.14907108e-02,\n",
              "         1.08974603e+00,  3.68031966e-01],\n",
              "       [-1.45946621e+00, -1.84775682e+00,  1.44849278e+00,\n",
              "         2.83620964e-01,  1.79457789e+00]])"
            ]
          },
          "metadata": {},
          "execution_count": 3
        }
      ]
    },
    {
      "cell_type": "code",
      "source": [
        "array = np.arange(1,30)\n",
        "mask  = (3<array)&(array<8)\n",
        "array[mask]"
      ],
      "metadata": {
        "colab": {
          "base_uri": "https://localhost:8080/"
        },
        "id": "CXZ7EIomzm8O",
        "outputId": "b923ad96-a7d7-434c-e6a9-7fa21f27cc5c"
      },
      "execution_count": 12,
      "outputs": [
        {
          "output_type": "execute_result",
          "data": {
            "text/plain": [
              "array([4, 5, 6, 7])"
            ]
          },
          "metadata": {},
          "execution_count": 12
        }
      ]
    },
    {
      "cell_type": "code",
      "source": [
        "print(sum(range(5),-1)) # sum will start from -1,0,1,2,3,4\n",
        "from numpy import *\n",
        "print(sum(range(5),-1)) # numpy dont conider one"
      ],
      "metadata": {
        "colab": {
          "base_uri": "https://localhost:8080/"
        },
        "id": "kL1lqnL9zrdH",
        "outputId": "a37878f2-ddac-4f25-b8be-44a84783af1f"
      },
      "execution_count": 14,
      "outputs": [
        {
          "output_type": "stream",
          "name": "stdout",
          "text": [
            "9\n",
            "10\n"
          ]
        }
      ]
    },
    {
      "cell_type": "code",
      "source": [
        "array = np.random.randint(1,1000,25).reshape(5,5)\n",
        "normalization  = (array-np.mean(array))/np.std(array)\n",
        "np.round(normalization)"
      ],
      "metadata": {
        "colab": {
          "base_uri": "https://localhost:8080/"
        },
        "id": "ZNTqKoif2o3J",
        "outputId": "8aede8ae-38f0-4500-c3bf-dbdac892a11f"
      },
      "execution_count": 15,
      "outputs": [
        {
          "output_type": "execute_result",
          "data": {
            "text/plain": [
              "array([[ 1.,  1.,  0., -0., -1.],\n",
              "       [ 1.,  1., -2.,  1., -1.],\n",
              "       [ 1.,  0.,  0., -2.,  0.],\n",
              "       [ 1., -0.,  1.,  1., -1.],\n",
              "       [-0.,  1., -1., -1., -1.]])"
            ]
          },
          "metadata": {},
          "execution_count": 15
        }
      ]
    },
    {
      "cell_type": "code",
      "source": [
        "def formula(a,b):\n",
        "  x = a+b\n",
        "  y = -a/2\n",
        "  return x*y\n",
        "array1= np.random.randint(1,100,9).reshape(3,3)\n",
        "array2 = np.random.randint(70,120,9).reshape(3,3)\n",
        "print(formula(array1,array2))\n"
      ],
      "metadata": {
        "colab": {
          "base_uri": "https://localhost:8080/"
        },
        "id": "grE6ontP2un3",
        "outputId": "19078b1f-bc23-4eee-800e-069f06de0443"
      },
      "execution_count": 23,
      "outputs": [
        {
          "output_type": "stream",
          "name": "stdout",
          "text": [
            "[[-5508.  -6960.  -5076.5]\n",
            " [-6351.  -4316.   -343. ]\n",
            " [-8772.   -605.  -5248. ]]\n"
          ]
        }
      ]
    },
    {
      "cell_type": "code",
      "source": [
        "#convrting to polar_Cordinates\n",
        "cord = np.random.randint(1,100,20).reshape(10,2)\n",
        "print(\"IN CARTSIAN SYSTEM :  \")\n",
        "print(cord)\n",
        "print(\" \")\n",
        "rad = cord[:,0]\n",
        "theta = cord[:,1]\n",
        "r =  np.sqrt(rad**2 + theta**2)\n",
        "angle = np.arctan(rad/theta)\n",
        "cord.dtype= float\n",
        "cord[:,0]=r\n",
        "cord[:,1] = angle\n",
        "print(\"IN POLAR SYSTEM : \")\n",
        "print(cord)\n",
        "\n"
      ],
      "metadata": {
        "colab": {
          "base_uri": "https://localhost:8080/"
        },
        "id": "9wRvfaop541r",
        "outputId": "a6838a5a-6b8f-4a0c-fa2c-b1cc4dcbcd8e"
      },
      "execution_count": 59,
      "outputs": [
        {
          "output_type": "stream",
          "name": "stdout",
          "text": [
            "IN CARTSIAN SYSTEM :  \n",
            "[[70 61]\n",
            " [11 45]\n",
            " [90 80]\n",
            " [62 90]\n",
            " [72 75]\n",
            " [97 50]\n",
            " [54 42]\n",
            " [70 89]\n",
            " [30 10]\n",
            " [24 65]]\n",
            " \n",
            "IN POLAR SYSTEM : \n",
            "[[ 92.84934033   0.85399267]\n",
            " [ 46.32493929   0.23974311]\n",
            " [120.41594579   0.84415399]\n",
            " [109.28860874   0.60322985]\n",
            " [103.96634071   0.76499283]\n",
            " [109.12836478   1.09485426]\n",
            " [ 68.41052551   0.90975316]\n",
            " [113.22985472   0.66646527]\n",
            " [ 31.6227766    1.24904577]\n",
            " [ 69.28924881   0.35370315]]\n"
          ]
        }
      ]
    },
    {
      "cell_type": "code",
      "source": [
        "array =  np.full(10,1)\n",
        "array.flags.writeable(write=False)"
      ],
      "metadata": {
        "colab": {
          "base_uri": "https://localhost:8080/"
        },
        "id": "ZBrnLF3n5WhL",
        "outputId": "8022996e-d8ba-43a8-8e52-fcea89fc74c2"
      },
      "execution_count": 25,
      "outputs": [
        {
          "output_type": "execute_result",
          "data": {
            "text/plain": [
              "array([1, 1, 1, 1, 1, 1, 1, 1, 1, 1])"
            ]
          },
          "metadata": {},
          "execution_count": 25
        }
      ]
    },
    {
      "cell_type": "code",
      "source": [
        "x = np.random.randint(1,100,20)\n",
        "for i in np.nditer(x):\n",
        "  print(i ,end  = \" \")"
      ],
      "metadata": {
        "colab": {
          "base_uri": "https://localhost:8080/"
        },
        "id": "L-B1loJX_x7p",
        "outputId": "3f48fd9e-b3ca-4057-a0ef-c8654584710b"
      },
      "execution_count": 68,
      "outputs": [
        {
          "output_type": "stream",
          "name": "stdout",
          "text": [
            "14 60 39 84 81 15 95 69 56 21 59 39 99 41 6 87 62 10 71 76 "
          ]
        }
      ]
    },
    {
      "cell_type": "code",
      "source": [
        "number = np.full(3,1.232,dtype=float16)\n",
        "#in int 32\n",
        "number =  number.astype(np.int32)\n",
        "number"
      ],
      "metadata": {
        "colab": {
          "base_uri": "https://localhost:8080/"
        },
        "id": "pCT1gW68CrMa",
        "outputId": "48bd840c-f36a-46cc-e3c3-7bbe4d14c1d9"
      },
      "execution_count": 77,
      "outputs": [
        {
          "output_type": "execute_result",
          "data": {
            "text/plain": [
              "array([1, 1, 1], dtype=int32)"
            ]
          },
          "metadata": {},
          "execution_count": 77
        }
      ]
    }
  ]
}