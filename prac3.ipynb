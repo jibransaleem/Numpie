{
  "nbformat": 4,
  "nbformat_minor": 0,
  "metadata": {
    "colab": {
      "provenance": []
    },
    "kernelspec": {
      "name": "python3",
      "display_name": "Python 3"
    },
    "language_info": {
      "name": "python"
    }
  },
  "cells": [
    {
      "cell_type": "code",
      "execution_count": 1,
      "metadata": {
        "id": "0NWVK4MOeHdW"
      },
      "outputs": [],
      "source": [
        "import numpy as np\n"
      ]
    },
    {
      "cell_type": "markdown",
      "source": [
        "\n",
        "A structured array in NumPy is an array where each element (or \"record\") can contain multiple fields of different data types. This allows you to store heterogeneous data (e.g., strings, integers, floats) in a single array, which is useful for tasks like working with tabular data, similar to a spreadsheet or a database record."
      ],
      "metadata": {
        "id": "9USLPNRUfg59"
      }
    },
    {
      "cell_type": "code",
      "source": [
        "#create a strcutured array of name age and height\n",
        "#U10:\n",
        "\n",
        "# U stands for Unicode string.\n",
        "# 10 is the maximum number of characters in the string (i.e., the string will have a length of 10 characters).\n",
        "# This is used to store text data (strings).\n",
        "# i4:\n",
        "\n",
        "# i stands for integer.\n",
        "# 4 indicates that the integer is stored in 4 bytes (32 bits).\n",
        "# This is used to store integer values (e.g., int32).\n",
        "# f4:\n",
        "\n",
        "# f stands for floating point.\n",
        "# 4 indicates that the number is stored in 4 bytes (32 bits).\n",
        "# This is used to store floating-point values (e.g., float32)\n",
        "my_data_type = [('name','U12'),('age','i4'),('height','f4')]\n",
        "array  = np.array([(\"jibran\",20,58)],dtype=my_data_type)\n",
        "print(array.dtype)"
      ],
      "metadata": {
        "colab": {
          "base_uri": "https://localhost:8080/"
        },
        "id": "s3MEZrpofhGU",
        "outputId": "7b1fb23b-e9bf-4285-845b-4d74b7767159"
      },
      "execution_count": 15,
      "outputs": [
        {
          "output_type": "stream",
          "name": "stdout",
          "text": [
            "[('name', '<U12'), ('age', '<i4'), ('height', '<f4')]\n"
          ]
        }
      ]
    },
    {
      "cell_type": "code",
      "source": [],
      "metadata": {
        "id": "5hMZHzrVjPZm"
      },
      "execution_count": null,
      "outputs": []
    },
    {
      "cell_type": "code",
      "source": [
        "data = [(\"x\", \"i4\") , (\"y\",\"i4\") ,(\"RGB\",\"i2\")]\n",
        "array  = np.array([(4,3 , 255),(10,2 , 100)],dtype=data)\n",
        "print(array)"
      ],
      "metadata": {
        "colab": {
          "base_uri": "https://localhost:8080/"
        },
        "id": "cyLbNJzNguct",
        "outputId": "518c08e1-1417-409d-adff-a539063b0ac2"
      },
      "execution_count": 18,
      "outputs": [
        {
          "output_type": "stream",
          "name": "stdout",
          "text": [
            "[( 4, 3, 255) (10, 2, 100)]\n"
          ]
        }
      ]
    },
    {
      "cell_type": "markdown",
      "source": [
        "52. Consider a random vector with shape (100,2) representing coordinates, find point by point distances"
      ],
      "metadata": {
        "id": "jYRryeJ1jmvW"
      }
    },
    {
      "cell_type": "code",
      "source": [
        "\n"
      ],
      "metadata": {
        "colab": {
          "base_uri": "https://localhost:8080/"
        },
        "id": "ZdNuJ94Cnwif",
        "outputId": "27c821d8-2eb8-4af1-94ae-88643181b5ba"
      },
      "execution_count": 68,
      "outputs": [
        {
          "output_type": "stream",
          "name": "stdout",
          "text": [
            "[ 1.  2.  3.  4.  5.  6. nan nan  7.  8. nan  9. 10. 11.]\n"
          ]
        }
      ]
    },
    {
      "cell_type": "markdown",
      "source": [
        "1, 2, 3, 4, 5\n",
        "6,  ,  , 7, 8\n",
        " ,  , 9,10,11"
      ],
      "metadata": {
        "id": "gTJkRA0_pa0g"
      }
    },
    {
      "cell_type": "code",
      "source": [
        "# dealing with missing data in files ,\n",
        "with open(\"demo.txt\",\"w\") as f:\n",
        "  data = np.array([1, 2, 3, 4, 5, 6, np.nan, np.nan, 7, 8, np.nan, 9, 10, 11])\n",
        "  np.savetxt(f,data,fmt=\"%s\")# save as string useful for nan,as we 9 it has converted into string\n",
        "def reader():\n",
        "  with open(\"demo.txt\",\"r\") as f:\n",
        "    data  = np.loadtxt(f)\n",
        "    mask =  ~np.isnan(data)\n",
        "    new_data  = data[mask]\n",
        "    return new_data.astype(int)\n",
        "reader()\n",
        "\n",
        "\n",
        "\n"
      ],
      "metadata": {
        "colab": {
          "base_uri": "https://localhost:8080/"
        },
        "id": "qWAw9eBqpdEB",
        "outputId": "c5d077cb-23a2-4794-bcac-1457e13ae079"
      },
      "execution_count": 75,
      "outputs": [
        {
          "output_type": "execute_result",
          "data": {
            "text/plain": [
              "array([ 1,  2,  3,  4,  5,  6,  7,  8,  9, 10, 11])"
            ]
          },
          "metadata": {},
          "execution_count": 75
        }
      ]
    },
    {
      "cell_type": "code",
      "source": [],
      "metadata": {
        "id": "2Qlo-Gh3suaZ"
      },
      "execution_count": null,
      "outputs": []
    }
  ]
}