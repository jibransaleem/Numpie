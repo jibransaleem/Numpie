{
 "cells": [
  {
   "cell_type": "markdown",
   "metadata": {},
   "source": [
    "OPERATIONS ON NUMPIE ARRAYS\n"
   ]
  },
  {
   "cell_type": "markdown",
   "metadata": {},
   "source": [
    "NumPy Operations Summary\n",
    "\n",
    "Scalar Operations\n",
    "- Element-wise Operations: Arithmetic operations (addition, subtraction, multiplication, division) are applied to each element of the array. NumPy uses broadcasting to handle operations between arrays of different shapes.\n",
    "\n",
    "Vector Operations\n",
    "- Element-wise Operations Between Arrays: When performing operations on two arrays, both must have the same shape (dimensions) for element-wise operations to work. If shapes are incompatible, an error will occur.\n",
    "\n",
    "Relational Operators\n",
    "- Operators like <, >, ==, !=, <=, and >= can be used to compare elements of an array, resulting in a boolean array indicating the result of the comparisons.\n",
    "\n",
    "Aggregate Functions\n",
    "- Max: np.max(array) returns the maximum value in the array.\n",
    "- Min: np.min(array) returns the minimum value in the array.\n",
    "- Sum: np.sum(array) computes the sum of all elements.\n",
    "- Product: np.prod(array) computes the product of all elements.\n",
    "\n",
    "Axis Parameter\n",
    "- When using aggregate functions:\n",
    "  - axis=0: Operates along columns (reducing rows).\n",
    "  - axis=1: Operates along rows (reducing columns).\n",
    "\n",
    "Statistical Functions\n",
    "- Mean: np.mean(array) computes the average of the elements.\n",
    "- Median: np.median(array, axis) computes the median value, with an optional axis.\n",
    "- Standard Deviation: np.std(array) computes the standard deviation.\n",
    "- Variance: np.var(array) computes the variance.\n",
    "\n",
    "Trigonometric Functions\n",
    "- Functions like np.sin(), np.cos(), and np.tan() can be applied element-wise to arrays.\n",
    "\n",
    "Dot Product\n",
    "- The dot product requires matching dimensions: for two matrices A (shape m×n) and B (shape n×p), the result will be a matrix of shape m×p.\n",
    "\n",
    "Logarithmic and Exponential Functions\n",
    "- Logarithm: np.log(array) computes the natural logarithm of each element.\n",
    "- Exponential: np.exp(array) computes the exponential (e^x) of each element.\n",
    "\n",
    "Rounding Functions\n",
    "- Ceiling: np.ceil(array) rounds each element up to the nearest integer.\n",
    "- Floor: np.floor(array) rounds each element down to the nearest integer.\n",
    "- Round: np.round(array) rounds each element to the nearest integer.\n"
   ]
  },
  {
   "cell_type": "code",
   "execution_count": null,
   "metadata": {},
   "outputs": [],
   "source": [
    "import numpy as np\n",
    "a1 = np.arange(12).reshape(3,4)\n",
    "a2 = np.arange(12,24).reshape(3,4)\n"
   ]
  },
  {
   "cell_type": "code",
   "execution_count": null,
   "metadata": {},
   "outputs": [],
   "source": [
    "#scalar opeartions\n",
    "a1*2 # ever element of a1 is multiplied by 2, like that all arthametic fun works like that\n",
    "print(a1+2)\n",
    "print(a1-2)\n",
    "print(a1/4)"
   ]
  },
  {
   "cell_type": "code",
   "execution_count": null,
   "metadata": {},
   "outputs": [],
   "source": [
    "#relational opeartors : <,>,==,!=,<=,>=\n",
    "a2>5 #compare every elemeents with given num and store boolean value as  ans"
   ]
  },
  {
   "cell_type": "code",
   "execution_count": null,
   "metadata": {},
   "outputs": [],
   "source": [
    "#vector opeartions : applied on 2 numpies arrays: +,-,/,*\n",
    "a1+a2  #since both have same dimension that are added\n",
    "x = np.arange(10).reshape(10,1)\n",
    "a1*x # errror due to dis-similar dimensions\n",
    "a1*a2 # works fine , order of multiplication matches"
   ]
  },
  {
   "cell_type": "code",
   "execution_count": null,
   "metadata": {},
   "outputs": [],
   "source": [
    "#max/min/sum/prod\n",
    "print(np.max(a1))\n",
    "print(np.min(a1))\n",
    "print(np.sum(a1))\n",
    "print(np.prod(a2))\n",
    "x : int  = np.arange(1,11).reshape(10,1)\n",
    "print(np.prod(x))\n",
    "import numpy as np\n",
    "\n",
    "#axis -> 0 = col , 1 - >row\n",
    "# Calculate product of elements\n",
    "# np.prod(array, axis=None)\n",
    "# - If axis is None (default), computes the product of all elements in the array (scalar).\n",
    "#   Example: \n",
    "arr = np.array([[1, 2, 3],\n",
    "                [4, 5, 6]])\n",
    "total_product = np.prod(arr)  # Returns 720 (1*2*3*4*5*6)\n",
    "# - If axis=0, computes the product down each column (resulting in an array with one value per column).\n",
    "column_product = np.prod(arr, axis=0)  # Returns [28, 80, 162] => [1*4*7, 2*5*8, 3*6*9]\n",
    "# - If axis=1, computes the product across each row (resulting in an array with one value per row).\n",
    "row_product = np.prod(arr, axis=1)  # Returns [6, 120, 504] => [1*2*3, 4*5*6, 7*8*9]\n",
    "\n",
    "# Calculate sum of elements\n",
    "# np.sum(array, axis=None)\n",
    "# - If axis is None (default), computes the sum of all elements in the array (scalar).\n",
    "#   Example:\n",
    "total_sum = np.sum(arr)  # Returns 21 (1+2+3+4+5+6)\n",
    "# - If axis=0, computes the sum down each column (resulting in an array with one value per column).\n",
    "column_sum = np.sum(arr, axis=0)  # Returns [12, 15, 18] => [1+4+7, 2+5+8, 3+6+9]\n",
    "# - If axis=1, computes the sum across each row (resulting in an array with one value per row).\n",
    "row_sum = np.sum(arr, axis=1)  # Returns [6, 15, 24] => [1+2+3, 4+5+6, 7+8+9]\n"
   ]
  },
  {
   "cell_type": "code",
   "execution_count": null,
   "metadata": {},
   "outputs": [],
   "source": [
    "#mean/median/standard deviatin /varience\n",
    "np.mean(a1) # you meay use axis here to find means of rows or cols \n",
    "np.median(a2 , axis=1)\n",
    "np.std(a2)\n",
    "np.var(a1)\n"
   ]
  },
  {
   "cell_type": "code",
   "execution_count": null,
   "metadata": {},
   "outputs": [],
   "source": [
    "#trignometric\n",
    "np.sin(a1)\n",
    "np.cos(a1)\n",
    "np.tan(a2)"
   ]
  },
  {
   "cell_type": "code",
   "execution_count": null,
   "metadata": {},
   "outputs": [],
   "source": [
    "#dot product\n",
    "#for dot  profuct order must mactes : row x col = row x col : col x row must macthes\n",
    "x1 = np.arange(1,10).reshape(3,3)\n",
    "x2 = np.arange(11,20).reshape(3,3)\n",
    "np.dot(x2,x1)\n",
    "#log and expo\n",
    "np.log(x1)\n",
    "np.exp(x2)"
   ]
  },
  {
   "cell_type": "code",
   "execution_count": null,
   "metadata": {},
   "outputs": [],
   "source": [
    "#floor(peche) and ciel(age)  and round\n",
    "print(np.ceil(np.random.random((2,2))*100))\n",
    "print(np.floor(np.random.random((2,2))*100))\n",
    "print(np.round(np.random.random((2,2))*100))"
   ]
  }
 ],
 "metadata": {
  "kernelspec": {
   "display_name": "Python 3",
   "language": "python",
   "name": "python3"
  },
  "language_info": {
   "codemirror_mode": {
    "name": "ipython",
    "version": 3
   },
   "file_extension": ".py",
   "mimetype": "text/x-python",
   "name": "python",
   "nbconvert_exporter": "python",
   "pygments_lexer": "ipython3",
   "version": "3.12.1"
  }
 },
 "nbformat": 4,
 "nbformat_minor": 2
}
